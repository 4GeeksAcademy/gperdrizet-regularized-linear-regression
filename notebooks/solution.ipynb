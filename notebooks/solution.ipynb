{
 "cells": [
  {
   "cell_type": "markdown",
   "metadata": {},
   "source": [
    "# Regularized regression: US county-level sociodemographic and health resource data (2018-2019)\n",
    "\n",
    "For this project I will attempt to model the prevalence of morbidity at the county level as a function of socioeconomic, demographic and health care related features.\n",
    "\n",
    "An initial round of manual feature selection will be used to discard clearly redundant, confounding or unnecessary features before EDA.\n",
    "\n",
    "This dataset contains count data. For example: 100,000 people with a heart condition in Rhode Island vs Texas is two very different things. Texas has ~30x the population; keep this consideration in mind during the analysis.\n",
    "\n",
    "## Notebook set-up\n",
    "\n",
    "Handle imports of necessary modules up-front."
   ]
  },
  {
   "cell_type": "code",
   "execution_count": 1,
   "metadata": {},
   "outputs": [],
   "source": [
    "# Standard library imports\n",
    "from pathlib import Path\n",
    "\n",
    "# Third-party imports\n",
    "import numpy as np\n",
    "import pandas as pd\n",
    "import matplotlib.pyplot as plt\n",
    "from sklearn.feature_selection import RFE\n",
    "from sklearn.metrics import root_mean_squared_error\n",
    "from sklearn.preprocessing import OrdinalEncoder, StandardScaler\n",
    "from sklearn.model_selection import train_test_split\n",
    "from sklearn.linear_model import LinearRegression, Lasso, Ridge\n",
    "\n",
    "# Set display options for pandas\n",
    "pd.set_option('display.max_rows', 100)"
   ]
  },
  {
   "cell_type": "markdown",
   "metadata": {
    "vscode": {
     "languageId": "plaintext"
    }
   },
   "source": [
    "## 1. Data loading\n",
    "\n",
    "### 1.1. Load"
   ]
  },
  {
   "cell_type": "code",
   "execution_count": 2,
   "metadata": {},
   "outputs": [],
   "source": [
    "data_url = 'https://raw.githubusercontent.com/4GeeksAcademy/regularized-linear-regression-project-tutorial/main/demographic_health_data.csv'\n",
    "data_df = pd.read_csv(data_url, sep=',')"
   ]
  },
  {
   "cell_type": "markdown",
   "metadata": {},
   "source": [
    "### 1.2. Save local copy"
   ]
  },
  {
   "cell_type": "code",
   "execution_count": 3,
   "metadata": {},
   "outputs": [],
   "source": [
    "Path('../data/raw').mkdir(parents=True, exist_ok=True)\n",
    "data_df.to_parquet('../data/raw/demographic_health_data.parquet', index=False)"
   ]
  },
  {
   "cell_type": "markdown",
   "metadata": {},
   "source": [
    "### 1.3. Inspect"
   ]
  },
  {
   "cell_type": "code",
   "execution_count": 4,
   "metadata": {},
   "outputs": [
    {
     "data": {
      "text/html": [
       "<div>\n",
       "<style scoped>\n",
       "    .dataframe tbody tr th:only-of-type {\n",
       "        vertical-align: middle;\n",
       "    }\n",
       "\n",
       "    .dataframe tbody tr th {\n",
       "        vertical-align: top;\n",
       "    }\n",
       "\n",
       "    .dataframe thead th {\n",
       "        text-align: right;\n",
       "    }\n",
       "</style>\n",
       "<table border=\"1\" class=\"dataframe\">\n",
       "  <thead>\n",
       "    <tr style=\"text-align: right;\">\n",
       "      <th></th>\n",
       "      <th>0</th>\n",
       "      <th>1</th>\n",
       "      <th>2</th>\n",
       "      <th>3</th>\n",
       "      <th>4</th>\n",
       "    </tr>\n",
       "  </thead>\n",
       "  <tbody>\n",
       "    <tr>\n",
       "      <th>fips</th>\n",
       "      <td>1001</td>\n",
       "      <td>1003</td>\n",
       "      <td>1005</td>\n",
       "      <td>1007</td>\n",
       "      <td>1009</td>\n",
       "    </tr>\n",
       "    <tr>\n",
       "      <th>TOT_POP</th>\n",
       "      <td>55601</td>\n",
       "      <td>218022</td>\n",
       "      <td>24881</td>\n",
       "      <td>22400</td>\n",
       "      <td>57840</td>\n",
       "    </tr>\n",
       "    <tr>\n",
       "      <th>0-9</th>\n",
       "      <td>6787</td>\n",
       "      <td>24757</td>\n",
       "      <td>2732</td>\n",
       "      <td>2456</td>\n",
       "      <td>7095</td>\n",
       "    </tr>\n",
       "    <tr>\n",
       "      <th>0-9 y/o % of total pop</th>\n",
       "      <td>12.206615</td>\n",
       "      <td>11.355276</td>\n",
       "      <td>10.980266</td>\n",
       "      <td>10.964286</td>\n",
       "      <td>12.266598</td>\n",
       "    </tr>\n",
       "    <tr>\n",
       "      <th>19-Oct</th>\n",
       "      <td>7637</td>\n",
       "      <td>26913</td>\n",
       "      <td>2960</td>\n",
       "      <td>2596</td>\n",
       "      <td>7570</td>\n",
       "    </tr>\n",
       "    <tr>\n",
       "      <th>...</th>\n",
       "      <td>...</td>\n",
       "      <td>...</td>\n",
       "      <td>...</td>\n",
       "      <td>...</td>\n",
       "      <td>...</td>\n",
       "    </tr>\n",
       "    <tr>\n",
       "      <th>CKD_prevalence</th>\n",
       "      <td>3.1</td>\n",
       "      <td>3.2</td>\n",
       "      <td>4.5</td>\n",
       "      <td>3.3</td>\n",
       "      <td>3.4</td>\n",
       "    </tr>\n",
       "    <tr>\n",
       "      <th>CKD_Lower 95% CI</th>\n",
       "      <td>2.9</td>\n",
       "      <td>3.0</td>\n",
       "      <td>4.2</td>\n",
       "      <td>3.1</td>\n",
       "      <td>3.2</td>\n",
       "    </tr>\n",
       "    <tr>\n",
       "      <th>CKD_Upper 95% CI</th>\n",
       "      <td>3.3</td>\n",
       "      <td>3.5</td>\n",
       "      <td>4.8</td>\n",
       "      <td>3.6</td>\n",
       "      <td>3.7</td>\n",
       "    </tr>\n",
       "    <tr>\n",
       "      <th>CKD_number</th>\n",
       "      <td>1326</td>\n",
       "      <td>5479</td>\n",
       "      <td>887</td>\n",
       "      <td>595</td>\n",
       "      <td>1507</td>\n",
       "    </tr>\n",
       "    <tr>\n",
       "      <th>Urban_rural_code</th>\n",
       "      <td>3</td>\n",
       "      <td>4</td>\n",
       "      <td>6</td>\n",
       "      <td>2</td>\n",
       "      <td>2</td>\n",
       "    </tr>\n",
       "  </tbody>\n",
       "</table>\n",
       "<p>108 rows × 5 columns</p>\n",
       "</div>"
      ],
      "text/plain": [
       "                                0          1          2          3          4\n",
       "fips                         1001       1003       1005       1007       1009\n",
       "TOT_POP                     55601     218022      24881      22400      57840\n",
       "0-9                          6787      24757       2732       2456       7095\n",
       "0-9 y/o % of total pop  12.206615  11.355276  10.980266  10.964286  12.266598\n",
       "19-Oct                       7637      26913       2960       2596       7570\n",
       "...                           ...        ...        ...        ...        ...\n",
       "CKD_prevalence                3.1        3.2        4.5        3.3        3.4\n",
       "CKD_Lower 95% CI              2.9        3.0        4.2        3.1        3.2\n",
       "CKD_Upper 95% CI              3.3        3.5        4.8        3.6        3.7\n",
       "CKD_number                   1326       5479        887        595       1507\n",
       "Urban_rural_code                3          4          6          2          2\n",
       "\n",
       "[108 rows x 5 columns]"
      ]
     },
     "execution_count": 4,
     "metadata": {},
     "output_type": "execute_result"
    }
   ],
   "source": [
    "data_df.head().transpose()"
   ]
  },
  {
   "cell_type": "code",
   "execution_count": 5,
   "metadata": {},
   "outputs": [
    {
     "name": "stdout",
     "output_type": "stream",
     "text": [
      "<class 'pandas.core.frame.DataFrame'>\n",
      "RangeIndex: 3140 entries, 0 to 3139\n",
      "Data columns (total 108 columns):\n",
      " #    Column                                                                         Non-Null Count  Dtype  \n",
      "---   ------                                                                         --------------  -----  \n",
      " 0    fips                                                                           3140 non-null   int64  \n",
      " 1    TOT_POP                                                                        3140 non-null   int64  \n",
      " 2    0-9                                                                            3140 non-null   int64  \n",
      " 3    0-9 y/o % of total pop                                                         3140 non-null   float64\n",
      " 4    19-Oct                                                                         3140 non-null   int64  \n",
      " 5    10-19 y/o % of total pop                                                       3140 non-null   float64\n",
      " 6    20-29                                                                          3140 non-null   int64  \n",
      " 7    20-29 y/o % of total pop                                                       3140 non-null   float64\n",
      " 8    30-39                                                                          3140 non-null   int64  \n",
      " 9    30-39 y/o % of total pop                                                       3140 non-null   float64\n",
      " 10   40-49                                                                          3140 non-null   int64  \n",
      " 11   40-49 y/o % of total pop                                                       3140 non-null   float64\n",
      " 12   50-59                                                                          3140 non-null   int64  \n",
      " 13   50-59 y/o % of total pop                                                       3140 non-null   float64\n",
      " 14   60-69                                                                          3140 non-null   int64  \n",
      " 15   60-69 y/o % of total pop                                                       3140 non-null   float64\n",
      " 16   70-79                                                                          3140 non-null   int64  \n",
      " 17   70-79 y/o % of total pop                                                       3140 non-null   float64\n",
      " 18   80+                                                                            3140 non-null   int64  \n",
      " 19   80+ y/o % of total pop                                                         3140 non-null   float64\n",
      " 20   White-alone pop                                                                3140 non-null   int64  \n",
      " 21   % White-alone                                                                  3140 non-null   float64\n",
      " 22   Black-alone pop                                                                3140 non-null   int64  \n",
      " 23   % Black-alone                                                                  3140 non-null   float64\n",
      " 24   Native American/American Indian-alone pop                                      3140 non-null   int64  \n",
      " 25   % NA/AI-alone                                                                  3140 non-null   float64\n",
      " 26   Asian-alone pop                                                                3140 non-null   int64  \n",
      " 27   % Asian-alone                                                                  3140 non-null   float64\n",
      " 28   Hawaiian/Pacific Islander-alone pop                                            3140 non-null   int64  \n",
      " 29   % Hawaiian/PI-alone                                                            3140 non-null   float64\n",
      " 30   Two or more races pop                                                          3140 non-null   int64  \n",
      " 31   % Two or more races                                                            3140 non-null   float64\n",
      " 32   POP_ESTIMATE_2018                                                              3140 non-null   int64  \n",
      " 33   N_POP_CHG_2018                                                                 3140 non-null   int64  \n",
      " 34   GQ_ESTIMATES_2018                                                              3140 non-null   int64  \n",
      " 35   R_birth_2018                                                                   3140 non-null   float64\n",
      " 36   R_death_2018                                                                   3140 non-null   float64\n",
      " 37   R_NATURAL_INC_2018                                                             3140 non-null   float64\n",
      " 38   R_INTERNATIONAL_MIG_2018                                                       3140 non-null   float64\n",
      " 39   R_DOMESTIC_MIG_2018                                                            3140 non-null   float64\n",
      " 40   R_NET_MIG_2018                                                                 3140 non-null   float64\n",
      " 41   Less than a high school diploma 2014-18                                        3140 non-null   int64  \n",
      " 42   High school diploma only 2014-18                                               3140 non-null   int64  \n",
      " 43   Some college or associate's degree 2014-18                                     3140 non-null   int64  \n",
      " 44   Bachelor's degree or higher 2014-18                                            3140 non-null   int64  \n",
      " 45   Percent of adults with less than a high school diploma 2014-18                 3140 non-null   float64\n",
      " 46   Percent of adults with a high school diploma only 2014-18                      3140 non-null   float64\n",
      " 47   Percent of adults completing some college or associate's degree 2014-18        3140 non-null   float64\n",
      " 48   Percent of adults with a bachelor's degree or higher 2014-18                   3140 non-null   float64\n",
      " 49   POVALL_2018                                                                    3140 non-null   int64  \n",
      " 50   PCTPOVALL_2018                                                                 3140 non-null   float64\n",
      " 51   PCTPOV017_2018                                                                 3140 non-null   float64\n",
      " 52   PCTPOV517_2018                                                                 3140 non-null   float64\n",
      " 53   MEDHHINC_2018                                                                  3140 non-null   int64  \n",
      " 54   CI90LBINC_2018                                                                 3140 non-null   int64  \n",
      " 55   CI90UBINC_2018                                                                 3140 non-null   int64  \n",
      " 56   Civilian_labor_force_2018                                                      3140 non-null   int64  \n",
      " 57   Employed_2018                                                                  3140 non-null   int64  \n",
      " 58   Unemployed_2018                                                                3140 non-null   int64  \n",
      " 59   Unemployment_rate_2018                                                         3140 non-null   float64\n",
      " 60   Median_Household_Income_2018                                                   3140 non-null   int64  \n",
      " 61   Med_HH_Income_Percent_of_State_Total_2018                                      3140 non-null   float64\n",
      " 62   Active Physicians per 100000 Population 2018 (AAMC)                            3140 non-null   float64\n",
      " 63   Total Active Patient Care Physicians per 100000 Population 2018 (AAMC)         3140 non-null   float64\n",
      " 64   Active Primary Care Physicians per 100000 Population 2018 (AAMC)               3140 non-null   float64\n",
      " 65   Active Patient Care Primary Care Physicians per 100000 Population 2018 (AAMC)  3140 non-null   float64\n",
      " 66   Active General Surgeons per 100000 Population 2018 (AAMC)                      3140 non-null   float64\n",
      " 67   Active Patient Care General Surgeons per 100000 Population 2018 (AAMC)         3140 non-null   float64\n",
      " 68   Total nurse practitioners (2019)                                               3140 non-null   float64\n",
      " 69   Total physician assistants (2019)                                              3140 non-null   float64\n",
      " 70   Total Hospitals (2019)                                                         3140 non-null   float64\n",
      " 71   Internal Medicine Primary Care (2019)                                          3140 non-null   float64\n",
      " 72   Family Medicine/General Practice Primary Care (2019)                           3140 non-null   float64\n",
      " 73   Total Specialist Physicians (2019)                                             3140 non-null   float64\n",
      " 74   ICU Beds_x                                                                     3140 non-null   int64  \n",
      " 75   Total Population                                                               3140 non-null   int64  \n",
      " 76   Population Aged 60+                                                            3140 non-null   int64  \n",
      " 77   Percent of Population Aged 60+                                                 3140 non-null   float64\n",
      " 78   COUNTY_NAME                                                                    3140 non-null   object \n",
      " 79   STATE_NAME                                                                     3140 non-null   object \n",
      " 80   STATE_FIPS                                                                     3140 non-null   int64  \n",
      " 81   CNTY_FIPS                                                                      3140 non-null   int64  \n",
      " 82   county_pop2018_18 and older                                                    3140 non-null   int64  \n",
      " 83   anycondition_prevalence                                                        3140 non-null   float64\n",
      " 84   anycondition_Lower 95% CI                                                      3140 non-null   float64\n",
      " 85   anycondition_Upper 95% CI                                                      3140 non-null   float64\n",
      " 86   anycondition_number                                                            3140 non-null   int64  \n",
      " 87   Obesity_prevalence                                                             3140 non-null   float64\n",
      " 88   Obesity_Lower 95% CI                                                           3140 non-null   float64\n",
      " 89   Obesity_Upper 95% CI                                                           3140 non-null   float64\n",
      " 90   Obesity_number                                                                 3140 non-null   int64  \n",
      " 91   Heart disease_prevalence                                                       3140 non-null   float64\n",
      " 92   Heart disease_Lower 95% CI                                                     3140 non-null   float64\n",
      " 93   Heart disease_Upper 95% CI                                                     3140 non-null   float64\n",
      " 94   Heart disease_number                                                           3140 non-null   int64  \n",
      " 95   COPD_prevalence                                                                3140 non-null   float64\n",
      " 96   COPD_Lower 95% CI                                                              3140 non-null   float64\n",
      " 97   COPD_Upper 95% CI                                                              3140 non-null   float64\n",
      " 98   COPD_number                                                                    3140 non-null   int64  \n",
      " 99   diabetes_prevalence                                                            3140 non-null   float64\n",
      " 100  diabetes_Lower 95% CI                                                          3140 non-null   float64\n",
      " 101  diabetes_Upper 95% CI                                                          3140 non-null   float64\n",
      " 102  diabetes_number                                                                3140 non-null   int64  \n",
      " 103  CKD_prevalence                                                                 3140 non-null   float64\n",
      " 104  CKD_Lower 95% CI                                                               3140 non-null   float64\n",
      " 105  CKD_Upper 95% CI                                                               3140 non-null   float64\n",
      " 106  CKD_number                                                                     3140 non-null   int64  \n",
      " 107  Urban_rural_code                                                               3140 non-null   int64  \n",
      "dtypes: float64(61), int64(45), object(2)\n",
      "memory usage: 2.6+ MB\n"
     ]
    }
   ],
   "source": [
    "data_df.info(verbose=True, show_counts=True)"
   ]
  },
  {
   "cell_type": "markdown",
   "metadata": {},
   "source": [
    "## 2. Initial feature selection"
   ]
  },
  {
   "cell_type": "code",
   "execution_count": 6,
   "metadata": {},
   "outputs": [],
   "source": [
    "# Save the label separately, so we don't lose or compromise it\n",
    "label = data_df['anycondition_prevalence']\n",
    "data_df.drop(columns=['anycondition_prevalence'], inplace=True)"
   ]
  },
  {
   "cell_type": "markdown",
   "metadata": {},
   "source": [
    "### 2.1. Age features"
   ]
  },
  {
   "cell_type": "code",
   "execution_count": null,
   "metadata": {},
   "outputs": [
    {
     "name": "stdout",
     "output_type": "stream",
     "text": [
      "<class 'pandas.core.frame.DataFrame'>\n",
      "RangeIndex: 3140 entries, 0 to 3139\n",
      "Data columns (total 9 columns):\n",
      " #   Column                    Non-Null Count  Dtype  \n",
      "---  ------                    --------------  -----  \n",
      " 0   0-9 y/o % of total pop    3140 non-null   float64\n",
      " 1   10-19 y/o % of total pop  3140 non-null   float64\n",
      " 2   20-29 y/o % of total pop  3140 non-null   float64\n",
      " 3   30-39 y/o % of total pop  3140 non-null   float64\n",
      " 4   40-49 y/o % of total pop  3140 non-null   float64\n",
      " 5   50-59 y/o % of total pop  3140 non-null   float64\n",
      " 6   60-69 y/o % of total pop  3140 non-null   float64\n",
      " 7   70-79 y/o % of total pop  3140 non-null   float64\n",
      " 8   80+ y/o % of total pop    3140 non-null   float64\n",
      "dtypes: float64(9)\n",
      "memory usage: 220.9 KB\n"
     ]
    }
   ],
   "source": [
    "# Select age-related features\n",
    "age_features = data_df.columns[2:20]\n",
    "age_df = data_df[age_features].copy()\n",
    "\n",
    "# Remove age count features, keeping only percentages\n",
    "feature_drops = age_df.filter(regex = '^\\d+-\\d+$').columns\n",
    "age_df.drop(columns=feature_drops, inplace=True)\n",
    "age_df.drop(columns=['19-Oct', '80+'], inplace=True)\n",
    "\n",
    "age_df.info()"
   ]
  },
  {
   "cell_type": "markdown",
   "metadata": {},
   "source": [
    "### 2.2. Ethnicity features"
   ]
  },
  {
   "cell_type": "code",
   "execution_count": 17,
   "metadata": {},
   "outputs": [
    {
     "name": "stdout",
     "output_type": "stream",
     "text": [
      "<class 'pandas.core.frame.DataFrame'>\n",
      "RangeIndex: 3140 entries, 0 to 3139\n",
      "Data columns (total 6 columns):\n",
      " #   Column               Non-Null Count  Dtype  \n",
      "---  ------               --------------  -----  \n",
      " 0   % White-alone        3140 non-null   float64\n",
      " 1   % Black-alone        3140 non-null   float64\n",
      " 2   % NA/AI-alone        3140 non-null   float64\n",
      " 3   % Asian-alone        3140 non-null   float64\n",
      " 4   % Hawaiian/PI-alone  3140 non-null   float64\n",
      " 5   % Two or more races  3140 non-null   float64\n",
      "dtypes: float64(6)\n",
      "memory usage: 147.3 KB\n"
     ]
    }
   ],
   "source": [
    "# Select Ethnicity-related features\n",
    "ethnicity_features = data_df.columns[20:32]\n",
    "ethnicity_df = data_df[ethnicity_features].copy()\n",
    "\n",
    "# Remove count features, keeping only percentages\n",
    "features = ethnicity_df.filter(regex = '^\\%').columns\n",
    "ethnicity_df = ethnicity_df[features]\n",
    "\n",
    "ethnicity_df.info()"
   ]
  },
  {
   "cell_type": "markdown",
   "metadata": {},
   "source": [
    "### 2.3. Population features"
   ]
  },
  {
   "cell_type": "code",
   "execution_count": null,
   "metadata": {},
   "outputs": [],
   "source": [
    "population_features = ['TOT_POP', 'POP_ESTIMATE_2018', 'N_POP_CHG_2018', 'R_birth_2018', 'R_death_2018']\n",
    "population_df = data_df[population_features].copy()\n",
    "population_df.head()"
   ]
  },
  {
   "cell_type": "code",
   "execution_count": null,
   "metadata": {},
   "outputs": [],
   "source": [
    "# # Do the test-train split\n",
    "# training_df, testing_df=train_test_split(\n",
    "#     data_df,\n",
    "#     test_size=0.25,\n",
    "#     random_state=315\n",
    "# )"
   ]
  },
  {
   "cell_type": "markdown",
   "metadata": {},
   "source": [
    "## 2. EDA\n",
    "\n",
    "### 2.1. Baseline model performance"
   ]
  },
  {
   "cell_type": "code",
   "execution_count": null,
   "metadata": {},
   "outputs": [],
   "source": [
    "anycondition_rates=training_df['anycondition_number']/training_df['TOT_POP']\n",
    "mean_anycondition_rate=np.mean(anycondition_rates)\n",
    "print(f'Mean any condition rate: {mean_anycondition_rate:.2f}')\n",
    "\n",
    "rmse=root_mean_squared_error(anycondition_rates, [mean_anycondition_rate]*len(training_df))\n",
    "print(f'Mean any condition rate model RMSE: {rmse:.2f}')"
   ]
  },
  {
   "cell_type": "markdown",
   "metadata": {},
   "source": [
    "### 2.2. Inital feature selection\n",
    "\n",
    "#### 2.2.1. Drop pathology related features"
   ]
  },
  {
   "cell_type": "code",
   "execution_count": null,
   "metadata": {},
   "outputs": [],
   "source": [
    "training_labels=training_df['anycondition_number']/training_df['TOT_POP']\n",
    "testing_labels=testing_df['anycondition_number']/testing_df['TOT_POP']\n",
    "\n",
    "path_features=training_df.columns[:83]\n",
    "training_df=training_df[path_features]\n",
    "testing_df=testing_df[path_features]"
   ]
  },
  {
   "cell_type": "markdown",
   "metadata": {},
   "source": [
    "#### 2.2.2. Initial feature selection"
   ]
  },
  {
   "cell_type": "code",
   "execution_count": null,
   "metadata": {},
   "outputs": [],
   "source": [
    "string_features=['COUNTY_NAME', 'STATE_NAME']\n",
    "ordinal_encoder=OrdinalEncoder()\n",
    "training_df[string_features]=ordinal_encoder.fit_transform(training_df[string_features])\n",
    "\n",
    "linear_model=LinearRegression()\n",
    "selector=RFE(linear_model, n_features_to_select=21, step=1)\n",
    "selector=selector.fit(training_df, training_labels)\n",
    "\n",
    "training_features=training_df.loc[:, selector.get_support()].copy()\n",
    "testing_features=testing_df.loc[:, selector.get_support()].copy()\n",
    "\n",
    "training_features.head().transpose()"
   ]
  },
  {
   "cell_type": "markdown",
   "metadata": {},
   "source": [
    "### 2.3. Feature distributions and cleaning"
   ]
  },
  {
   "cell_type": "code",
   "execution_count": null,
   "metadata": {},
   "outputs": [],
   "source": [
    "new_columns={\n",
    "    'Active Patient Care Primary Care Physicians per 100000 Population 2018 (AAMC)': 'Primary physicians',\n",
    "    'Active Patient Care General Surgeons per 100000 Population 2018 (AAMC)': 'General surgons'\n",
    "}\n",
    "\n",
    "training_features.rename(columns=new_columns, inplace=True)\n",
    "testing_features.rename(columns=new_columns, inplace=True)"
   ]
  },
  {
   "cell_type": "code",
   "execution_count": null,
   "metadata": {},
   "outputs": [],
   "source": [
    "plt.title('Label distribution')\n",
    "plt.hist(training_labels, color='black', bins=30)\n",
    "plt.xlabel('Incidence rate of any condition')\n",
    "plt.ylabel('Count')\n",
    "plt.show()"
   ]
  },
  {
   "cell_type": "code",
   "execution_count": null,
   "metadata": {},
   "outputs": [],
   "source": [
    "features=list(training_features.columns)\n",
    "\n",
    "rows=len(features) // 3\n",
    "\n",
    "fig, axs=plt.subplots(rows,3, figsize=(8,2.5*rows))\n",
    "axs=axs.flatten()\n",
    "\n",
    "for i, feature in enumerate(features):\n",
    "    axs[i].set_title(feature)\n",
    "    axs[i].hist(training_features[feature], color='black', bins=30)\n",
    "    axs[i].set_ylabel('Count')\n",
    "\n",
    "fig.tight_layout()\n",
    "fig.show()"
   ]
  },
  {
   "cell_type": "markdown",
   "metadata": {},
   "source": [
    "### 2.4. Feature interactions & selection"
   ]
  },
  {
   "cell_type": "code",
   "execution_count": null,
   "metadata": {},
   "outputs": [],
   "source": [
    "features=list(training_features.columns)\n",
    "\n",
    "rows=len(features) // 3\n",
    "\n",
    "fig, axs=plt.subplots(rows,3, figsize=(8,2.5*rows))\n",
    "axs=axs.flatten()\n",
    "\n",
    "for i, feature in enumerate(features):\n",
    "    axs[i].set_title(feature)\n",
    "    axs[i].scatter(training_features[feature], training_labels, s=0.2, color='black')\n",
    "    axs[i].set_ylabel('Count')\n",
    "\n",
    "fig.tight_layout()\n",
    "fig.show()"
   ]
  },
  {
   "cell_type": "markdown",
   "metadata": {},
   "source": [
    "### 2.5. Feature encoding & scaling"
   ]
  },
  {
   "cell_type": "code",
   "execution_count": null,
   "metadata": {},
   "outputs": [],
   "source": [
    "scaler=StandardScaler()\n",
    "scaler.fit(training_features)\n",
    "scaled_training_features=scaler.transform(training_features)\n",
    "scaled_testing_features=scaler.transform(testing_features)\n",
    "\n",
    "training_features=pd.DataFrame(scaled_training_features, columns=training_features.columns)\n",
    "testing_features=pd.DataFrame(scaled_testing_features, columns=testing_features.columns)\n",
    "\n",
    "training_features.describe().transpose()"
   ]
  },
  {
   "cell_type": "markdown",
   "metadata": {},
   "source": [
    "## 3. Linear model training"
   ]
  },
  {
   "cell_type": "code",
   "execution_count": null,
   "metadata": {},
   "outputs": [],
   "source": [
    "linear_model=LinearRegression()\n",
    "result=linear_model.fit(training_features, training_labels)\n",
    "\n",
    "train_predictions=linear_model.predict(training_features)\n",
    "train_rmse=root_mean_squared_error(training_labels, train_predictions)\n",
    "\n",
    "test_predictions=linear_model.predict(testing_features)\n",
    "test_rmse=root_mean_squared_error(testing_labels, test_predictions)\n",
    "\n",
    "print(f'Prediction RMSE: training: {train_rmse:.4f}, testing: {test_rmse:.4f}')"
   ]
  },
  {
   "cell_type": "code",
   "execution_count": null,
   "metadata": {},
   "outputs": [],
   "source": [
    "fig, axs=plt.subplots(1,2, figsize=(8,4), sharex=True, sharey=True)\n",
    "axs=axs.flatten()\n",
    "\n",
    "fig.suptitle('Split model evaluation')\n",
    "\n",
    "axs[0].set_title('Training data: true vs predicted\\nany condition rate')\n",
    "axs[0].scatter(training_labels, train_predictions, color='black', s=5)\n",
    "axs[0].set_xlabel('True rate')\n",
    "axs[0].set_ylabel('Predicted rate')\n",
    "\n",
    "axs[1].set_title('Testing data: true vs predicted\\nany condition rate')\n",
    "axs[1].scatter(testing_labels, test_predictions, color='black', s=5)\n",
    "axs[1].set_xlabel('True rate')\n",
    "axs[1].set_ylabel('Predicted rate')\n",
    "\n",
    "fig.tight_layout()\n",
    "fig.show()"
   ]
  },
  {
   "cell_type": "markdown",
   "metadata": {},
   "source": [
    "## 4. Model regularization"
   ]
  },
  {
   "cell_type": "code",
   "execution_count": null,
   "metadata": {},
   "outputs": [],
   "source": [
    "%%time\n",
    "\n",
    "penalties=[0.0000125, 0.000025, 0.00005, 0.0001, 0.0002, 0.0004, 0.0008, 0.0016, 0.0032, 0.0064, 0.0128, 0.0256, 0.1024, 0.2048]\n",
    "train_rmse_values=[]\n",
    "test_rmse_values=[]\n",
    "\n",
    "for penalty in penalties:\n",
    "    lasso_model=Lasso(alpha=penalty, max_iter=5000)\n",
    "    result=lasso_model.fit(training_features, training_labels)\n",
    "\n",
    "    train_predictions=lasso_model.predict(training_features)\n",
    "    train_rmse=root_mean_squared_error(training_labels, train_predictions)\n",
    "    train_rmse_values.append(train_rmse)\n",
    "\n",
    "    test_predictions=lasso_model.predict(testing_features)\n",
    "    test_rmse=root_mean_squared_error(testing_labels, test_predictions)\n",
    "    test_rmse_values.append(test_rmse)\n",
    "\n",
    "    print(f'Prediction RMSE: training: {train_rmse:.4f}, testing: {test_rmse:.4f}')\n",
    "\n",
    "print()"
   ]
  },
  {
   "cell_type": "code",
   "execution_count": null,
   "metadata": {},
   "outputs": [],
   "source": [
    "plt.title('Regression RMSE vs L1 penalty')\n",
    "plt.plot(penalties, train_rmse_values, color='black', label='Training')\n",
    "plt.plot(penalties, test_rmse_values, color='red', label='Testing')\n",
    "plt.xlabel('L1 penalty')\n",
    "plt.xscale('log', base=2)\n",
    "plt.ylabel('RMSE')\n",
    "plt.legend(loc='best')\n",
    "plt.show()"
   ]
  },
  {
   "cell_type": "markdown",
   "metadata": {},
   "source": [
    "## 5. Hyperparameter optimization"
   ]
  },
  {
   "cell_type": "code",
   "execution_count": null,
   "metadata": {},
   "outputs": [],
   "source": [
    "%%time\n",
    "\n",
    "penalties=[1, 10, 100, 1000, 10000]\n",
    "train_rmse_values=[]\n",
    "test_rmse_values=[]\n",
    "\n",
    "for penalty in penalties:\n",
    "    ridge_model=Ridge(alpha=penalty, max_iter=5000)\n",
    "    result=ridge_model.fit(training_features, training_labels)\n",
    "\n",
    "    train_predictions=ridge_model.predict(training_features)\n",
    "    train_rmse=root_mean_squared_error(training_labels, train_predictions)\n",
    "    train_rmse_values.append(train_rmse)\n",
    "\n",
    "    test_predictions=ridge_model.predict(testing_features)\n",
    "    test_rmse=root_mean_squared_error(testing_labels, test_predictions)\n",
    "    test_rmse_values.append(test_rmse)\n",
    "\n",
    "    print(f'Prediction RMSE: training: {train_rmse:.4f}, testing: {test_rmse:.4f}')\n",
    "\n",
    "print()"
   ]
  },
  {
   "cell_type": "code",
   "execution_count": null,
   "metadata": {},
   "outputs": [],
   "source": [
    "plt.title('Regression RMSE vs L1 penalty')\n",
    "plt.plot(penalties, train_rmse_values, color='black', label='Training')\n",
    "plt.plot(penalties, test_rmse_values, color='red', label='Testing')\n",
    "plt.xlabel('L1 penalty')\n",
    "plt.xscale('log', base=2)\n",
    "plt.ylabel('RMSE')\n",
    "plt.legend(loc='best')\n",
    "plt.show()"
   ]
  },
  {
   "cell_type": "markdown",
   "metadata": {},
   "source": [
    "## 6. Final model evaluation"
   ]
  },
  {
   "cell_type": "code",
   "execution_count": null,
   "metadata": {},
   "outputs": [],
   "source": [
    "lasso_model=Lasso(alpha=2**-9.7, max_iter=5000)\n",
    "result=lasso_model.fit(training_features, training_labels)\n",
    "\n",
    "train_predictions=lasso_model.predict(training_features)\n",
    "train_rmse=root_mean_squared_error(training_labels, train_predictions)\n",
    "\n",
    "test_predictions=lasso_model.predict(testing_features)\n",
    "test_rmse=root_mean_squared_error(testing_labels, test_predictions)\n",
    "\n",
    "print(f'Prediction RMSE: training: {train_rmse:.4f}, testing: {test_rmse:.4f}')"
   ]
  }
 ],
 "metadata": {
  "kernelspec": {
   "display_name": "Python 3",
   "language": "python",
   "name": "python3"
  },
  "language_info": {
   "codemirror_mode": {
    "name": "ipython",
    "version": 3
   },
   "file_extension": ".py",
   "mimetype": "text/x-python",
   "name": "python",
   "nbconvert_exporter": "python",
   "pygments_lexer": "ipython3",
   "version": "3.11.4"
  }
 },
 "nbformat": 4,
 "nbformat_minor": 2
}
