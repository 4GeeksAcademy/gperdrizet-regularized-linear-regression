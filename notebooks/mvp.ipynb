{
 "cells": [
  {
   "cell_type": "markdown",
   "metadata": {},
   "source": [
    "# Regularized regression: US county-level sociodemographic and health resource data (2018-2019)\n",
    "\n",
    "For this project I recommend attempting to model the prevalence of morbidity at the county level as a function of socioeconomic, demographic and health care related features. The label will be defined as the number of people with any reported medical condition per 100 people in the county.\n",
    "\n",
    "An initial round of manual feature selection will be used to discard clearly redundant, confounding or unnecessary features before EDA.\n",
    "\n",
    "Linear regression will be used to model the data, including regularization.\n",
    "\n",
    "## Notebook set-up\n",
    "\n",
    "Handle imports of necessary modules up-front."
   ]
  },
  {
   "cell_type": "code",
   "execution_count": null,
   "metadata": {},
   "outputs": [],
   "source": [
    "# Standard library imports\n",
    "from pathlib import Path\n",
    "\n",
    "# Third-party imports\n",
    "import numpy as np\n",
    "import pandas as pd\n",
    "import matplotlib.pyplot as plt\n",
    "from sklearn.metrics import root_mean_squared_error, r2_score\n",
    "from sklearn.preprocessing import OrdinalEncoder, PolynomialFeatures, StandardScaler\n",
    "from sklearn.model_selection import train_test_split\n",
    "from sklearn.linear_model import LinearRegression, Lasso, Ridge\n",
    "from sklearn.exceptions import ConvergenceWarning\n",
    "\n",
    "# Local imports\n",
    "import helper_functions as funcs\n",
    "\n",
    "# Set display options for pandas\n",
    "pd.set_option('display.max_rows', 100)"
   ]
  },
  {
   "cell_type": "markdown",
   "metadata": {
    "vscode": {
     "languageId": "plaintext"
    }
   },
   "source": [
    "## 1. Data loading\n",
    "\n",
    "### 1.1. Load"
   ]
  },
  {
   "cell_type": "code",
   "execution_count": null,
   "metadata": {},
   "outputs": [],
   "source": [
    "data_url = 'https://raw.githubusercontent.com/4GeeksAcademy/regularized-linear-regression-project-tutorial/main/demographic_health_data.csv'\n",
    "data_df = pd.read_csv(data_url, sep=',')"
   ]
  },
  {
   "cell_type": "markdown",
   "metadata": {},
   "source": [
    "### 1.2. Save local copy"
   ]
  },
  {
   "cell_type": "code",
   "execution_count": null,
   "metadata": {},
   "outputs": [],
   "source": [
    "Path('../data/raw').mkdir(parents=True, exist_ok=True)\n",
    "data_df.to_parquet('../data/raw/demographic_health_data.parquet', index=False)"
   ]
  },
  {
   "cell_type": "markdown",
   "metadata": {},
   "source": [
    "### 1.3. Inspect"
   ]
  },
  {
   "cell_type": "code",
   "execution_count": null,
   "metadata": {},
   "outputs": [],
   "source": [
    "data_df.head().transpose()"
   ]
  },
  {
   "cell_type": "code",
   "execution_count": null,
   "metadata": {},
   "outputs": [],
   "source": [
    "data_df.info(verbose=True, show_counts=True)"
   ]
  },
  {
   "cell_type": "markdown",
   "metadata": {},
   "source": [
    "## 2. Initial feature selection"
   ]
  },
  {
   "cell_type": "code",
   "execution_count": null,
   "metadata": {},
   "outputs": [],
   "source": [
    "# Our label is the rate of any condition per 100 people\n",
    "label = data_df['anycondition_number'] / (data_df['TOT_POP'] / 100)"
   ]
  },
  {
   "cell_type": "markdown",
   "metadata": {},
   "source": [
    "### 2.1. Age features"
   ]
  },
  {
   "cell_type": "code",
   "execution_count": null,
   "metadata": {},
   "outputs": [],
   "source": [
    "# Select age-related features\n",
    "age_features = data_df.columns[2:20]\n",
    "age_df = data_df[age_features].copy()\n",
    "\n",
    "# Remove age count features, keeping only percentages\n",
    "feature_drops = age_df.filter(regex = '^\\d+-\\d+$').columns\n",
    "age_df.drop(columns=feature_drops, inplace=True)\n",
    "age_df.drop(columns=['19-Oct', '80+'], inplace=True)\n",
    "\n",
    "age_df.info()"
   ]
  },
  {
   "cell_type": "markdown",
   "metadata": {},
   "source": [
    "### 2.2. Ethnicity features"
   ]
  },
  {
   "cell_type": "code",
   "execution_count": null,
   "metadata": {},
   "outputs": [],
   "source": [
    "# Select Ethnicity-related features\n",
    "ethnicity_features = data_df.columns[20:32]\n",
    "ethnicity_df = data_df[ethnicity_features].copy()\n",
    "\n",
    "# Remove count features, keeping only percentages\n",
    "features = ethnicity_df.filter(regex = '^\\%').columns\n",
    "ethnicity_df = ethnicity_df[features]\n",
    "\n",
    "ethnicity_df.info()"
   ]
  },
  {
   "cell_type": "markdown",
   "metadata": {},
   "source": [
    "### 2.3. Population features"
   ]
  },
  {
   "cell_type": "code",
   "execution_count": null,
   "metadata": {},
   "outputs": [],
   "source": [
    "population_features = ['TOT_POP', 'POP_ESTIMATE_2018', 'N_POP_CHG_2018', 'R_birth_2018', 'R_death_2018']\n",
    "population_df = data_df[population_features].copy()\n",
    "population_df.info()"
   ]
  },
  {
   "cell_type": "markdown",
   "metadata": {},
   "source": [
    "### 2.4. Education features"
   ]
  },
  {
   "cell_type": "code",
   "execution_count": null,
   "metadata": {},
   "outputs": [],
   "source": [
    "education_features = data_df.columns[45:49]\n",
    "education_df = data_df[education_features].copy()\n",
    "education_df.info()"
   ]
  },
  {
   "cell_type": "markdown",
   "metadata": {},
   "source": [
    "### 2.5. Employment features"
   ]
  },
  {
   "cell_type": "code",
   "execution_count": null,
   "metadata": {},
   "outputs": [],
   "source": [
    "employment_features = data_df.columns[56:62]\n",
    "employment_df = data_df[employment_features].copy()\n",
    "employment_df.info()"
   ]
  },
  {
   "cell_type": "markdown",
   "metadata": {},
   "source": [
    "### 2.6. Healthcare access features"
   ]
  },
  {
   "cell_type": "code",
   "execution_count": null,
   "metadata": {},
   "outputs": [],
   "source": [
    "healthcare_features = data_df.columns[62:75]\n",
    "healthcare_df = data_df[healthcare_features].copy()\n",
    "healthcare_df.info()"
   ]
  },
  {
   "cell_type": "markdown",
   "metadata": {},
   "source": [
    "### 2.7. Other"
   ]
  },
  {
   "cell_type": "code",
   "execution_count": null,
   "metadata": {},
   "outputs": [],
   "source": [
    "other_features = data_df.columns[78:82]\n",
    "other_df = data_df[other_features].copy()\n",
    "other_df.info()"
   ]
  },
  {
   "cell_type": "markdown",
   "metadata": {},
   "source": [
    "### 2.8. Re-combine selected features"
   ]
  },
  {
   "cell_type": "code",
   "execution_count": null,
   "metadata": {},
   "outputs": [],
   "source": [
    "data_df = pd.concat([age_df,ethnicity_df,population_df,education_df,employment_df,healthcare_df,other_df], axis=1)\n",
    "data_df['morbidity'] = label\n",
    "\n",
    "# Rename features with shorter, more plot-friendly names\n",
    "column_renames = {\n",
    "    # Age features (percentages)\n",
    " \n",
    "    '0-9 y/o % of total pop': 'pct_0-9',\n",
    "    '10-19 y/o % of total pop': 'pct_10-19',\n",
    "    '20-29 y/o % of total pop': 'pct_20-29',\n",
    "    '30-39 y/o % of total pop': 'pct_30-39',\n",
    "    '40-49 y/o % of total pop': 'pct_40-49',\n",
    "    '50-59 y/o % of total pop': 'pct_50-59',\n",
    "    '60-69 y/o % of total pop': 'pct_60-69',\n",
    "    '70-79 y/o % of total pop': 'pct_70-79',\n",
    "    '80+ y/o % of total pop': 'pct_80+',\n",
    "    \n",
    "    # Ethnicity features\n",
    "    '% Not Hispanic or Latino': 'pct_non_hispanic',\n",
    "    '% Hispanic or Latino': 'pct_hispanic',\n",
    "    '% American Indian and Alaska Native Alone': 'pct_native_american',\n",
    "    '% Asian Alone': 'pct_asian',\n",
    "    '% Black or African American Alone': 'pct_black',\n",
    "    '% Native Hawaiian and Other Pacific Islander Alone': 'pct_pacific_islander',\n",
    "    '% Two or More Races': 'pct_multiracial',\n",
    "    '% White Alone': 'pct_white',\n",
    "    \n",
    "    # Population features\n",
    "    'TOT_POP': 'total_population',\n",
    "    'POP_ESTIMATE_2018': 'pop_estimate_2018',\n",
    "    'N_POP_CHG_2018': 'pop_change_2018',\n",
    "    'R_birth_2018': 'birth_rate_2018',\n",
    "    'R_death_2018': 'death_rate_2018',\n",
    "    \n",
    "    # Education features\n",
    "    'Percent of adults with less than a high school diploma 2014-18': 'pct_no_hs_diploma',\n",
    "    'Percent of adults with a high school diploma only 2014-18': 'pct_hs_only',\n",
    "    'Percent of adults completing some college or associate\\'s degree 2014-18': 'pct_some_college',\n",
    "    'Percent of adults with a bachelor\\'s degree or higher 2014-18': 'pct_bachelor_plus',\n",
    "    \n",
    "    # Employment features\n",
    "    'Civilian_labor_force_2018': 'civilian_labor_force',\n",
    "    'Employed_2018': 'employed_2018',\n",
    "    'Unemployed_2018': 'unemployed_2018',\n",
    "    'Unemployment_rate_2018': 'unemployment_rate',\n",
    "    'Median_Household_Income_2018': 'median_household_income',\n",
    "    'Med_HH_Income_Percent_of_State_Total_2018': 'income_pct_of_state',\n",
    "    \n",
    "    # Healthcare access features\n",
    "    'Active Physicians per 100000 Population 2018 (AAMC)': 'active_physicians_per_100k',\n",
    "    'Active Patient Care Primary Care Physicians per 100000 Population 2018 (AAMC)': 'primary_physicians_per_100k',\n",
    "    'Active Primary Care Physicians per 100000 Population 2018 (AAMC)': 'active_primary_care_per_100k',\n",
    "    'Active General Surgeons per 100000 Population 2018 (AAMC)': 'general_surgeons_per_100k',\n",
    "    'Active Patient Care General Surgeons per 100000 Population 2018 (AAMC)': 'surgeons_per_100k',\n",
    "    'Total Active Patient Care Physicians per 100000 Population 2018 (AAMC)': 'total_physicians_per_100k',\n",
    "    'Total nurse practitioners (2019)': 'total_nurse_practitioners',\n",
    "    'Total physician assistants (2019)': 'total_physician_assistants',\n",
    "    'Total Hospitals (2019)': 'total_hospitals',\n",
    "    'Internal Medicine Primary Care (2019)': 'internal_medicine_physicians',\n",
    "    'Family Medicine/General Practice Primary Care (2019)': 'family_medicine_physicians',\n",
    "    'Total Specialist Physicians (2019)': 'total_specialist_physicians',\n",
    "}\n",
    "\n",
    "data_df.rename(columns=column_renames, inplace=True)\n",
    "data_df.info()"
   ]
  },
  {
   "cell_type": "markdown",
   "metadata": {},
   "source": [
    "## 3. EDA\n",
    "### 3.1. Data composition\n",
    "\n",
    "#### 3.1.1. Categorical features"
   ]
  },
  {
   "cell_type": "code",
   "execution_count": null,
   "metadata": {},
   "outputs": [],
   "source": [
    "# Investigate the distribution of factor levels in any categorical features"
   ]
  },
  {
   "cell_type": "markdown",
   "metadata": {},
   "source": [
    "#### 3.1.2. Ratio features"
   ]
  },
  {
   "cell_type": "code",
   "execution_count": null,
   "metadata": {},
   "outputs": [],
   "source": [
    "# Take a look at the descriptive statistics of the numerical features"
   ]
  },
  {
   "cell_type": "code",
   "execution_count": null,
   "metadata": {},
   "outputs": [],
   "source": [
    "# Plot the distributions of numerical features - what do you see?"
   ]
  },
  {
   "cell_type": "markdown",
   "metadata": {},
   "source": [
    "#### 3.1.3. Label"
   ]
  },
  {
   "cell_type": "code",
   "execution_count": null,
   "metadata": {},
   "outputs": [],
   "source": [
    "# Plot the distribution of the label - what do you see?"
   ]
  },
  {
   "cell_type": "markdown",
   "metadata": {},
   "source": [
    "### 3.2. Feature-label correlations"
   ]
  },
  {
   "cell_type": "code",
   "execution_count": null,
   "metadata": {},
   "outputs": [],
   "source": [
    "# Draw scatter plots showing the relationship between the label and each numerical feature"
   ]
  },
  {
   "cell_type": "markdown",
   "metadata": {},
   "source": [
    "## 4. Data preparation\n",
    "\n",
    "### 4.1. Train-test split"
   ]
  },
  {
   "cell_type": "code",
   "execution_count": null,
   "metadata": {},
   "outputs": [],
   "source": [
    "# Do the train test split"
   ]
  },
  {
   "cell_type": "markdown",
   "metadata": {},
   "source": [
    "### 4.2. Feature encoding"
   ]
  },
  {
   "cell_type": "code",
   "execution_count": null,
   "metadata": {},
   "outputs": [],
   "source": [
    "# Encode any categorical features"
   ]
  },
  {
   "cell_type": "markdown",
   "metadata": {},
   "source": [
    "### 4.3. Interaction features\n",
    "\n",
    "Leaving this in so that you get overfitting on purpose - having polynomial interaction features on top of so many features to begin with is a recipy for overfitting. In this assignment, that's what we want!"
   ]
  },
  {
   "cell_type": "code",
   "execution_count": null,
   "metadata": {},
   "outputs": [],
   "source": [
    "poly_transformer = PolynomialFeatures(degree=2, include_bias=False)\n",
    "poly_transformer.fit(training_df.drop(columns=['morbidity']))\n",
    "poly_training_features = poly_transformer.transform(training_df.drop(columns=['morbidity']))\n",
    "poly_testing_features = poly_transformer.transform(testing_df.drop(columns=['morbidity']))\n",
    "\n",
    "poly_training_df = pd.DataFrame(poly_training_features, columns=poly_transformer.get_feature_names_out())\n",
    "poly_testing_df = pd.DataFrame(poly_testing_features, columns=poly_transformer.get_feature_names_out())\n",
    "\n",
    "poly_training_df['morbidity'] = training_df['morbidity'].values\n",
    "poly_testing_df['morbidity'] = testing_df['morbidity'].values"
   ]
  },
  {
   "cell_type": "markdown",
   "metadata": {},
   "source": [
    "## 5. Linear model training\n",
    "\n",
    "### 5.1. Baseline"
   ]
  },
  {
   "cell_type": "code",
   "execution_count": null,
   "metadata": {},
   "outputs": [],
   "source": [
    "# Define a relevant baseline model for a standard of comparison"
   ]
  },
  {
   "cell_type": "markdown",
   "metadata": {},
   "source": [
    "### 5.2. Linear regression model"
   ]
  },
  {
   "cell_type": "code",
   "execution_count": null,
   "metadata": {},
   "outputs": [],
   "source": [
    "# Train a linear regression model"
   ]
  },
  {
   "cell_type": "code",
   "execution_count": null,
   "metadata": {},
   "outputs": [],
   "source": [
    "# Evaluate the R-squared and the RMSE on the training and testing sets - what do you notice?"
   ]
  },
  {
   "cell_type": "code",
   "execution_count": null,
   "metadata": {},
   "outputs": [],
   "source": [
    "# Residual plots for training and testing sets\n",
    "funcs.residual_plot(training_predictions, training_labels, testing_predictions, testing_labels)"
   ]
  },
  {
   "cell_type": "markdown",
   "metadata": {},
   "source": [
    "## 4. Model regularization\n",
    "\n",
    "### 4.1. Feature scaling\n",
    "\n",
    "This aids in model convergence during repeated training runs."
   ]
  },
  {
   "cell_type": "code",
   "execution_count": null,
   "metadata": {},
   "outputs": [],
   "source": [
    "# Use sklearn's StandardScaler to standardize the features so that the model will converge faster/better"
   ]
  },
  {
   "cell_type": "markdown",
   "metadata": {},
   "source": [
    "### 4.2. Lasso penalty optimization\n",
    "\n",
    "Now train the lasso model in a loop with different values for the L1 penalty. This should get you started:"
   ]
  },
  {
   "cell_type": "code",
   "execution_count": null,
   "metadata": {},
   "outputs": [],
   "source": [
    "%%time\n",
    "\n",
    "penalties = [0.000025, 0.00005, 0.0001, 0.0002, 0.0004, 0.0008, 0.0016, 0.0032, 0.0064, 0.0128, 0.0256]\n",
    "\n",
    "lasso_results = {\n",
    "    'Training R-squared': [],\n",
    "    'Testing R-Squared': [],\n",
    "    'Training RMSE': [],\n",
    "    'Testing RMSE': []\n",
    "}\n",
    "\n",
    "for penalty in penalties:\n",
    "\n",
    "    # Create and fit the Lasso model\n",
    "\n",
    "    # Evaluate the model on training data\n",
    "\n",
    "    # Evaluate the model on testing data\n",
    "\n",
    "    # Store the results for this iteration    \n",
    "    lasso_results['Training R-squared'].append(train_rsq)\n",
    "    lasso_results['Training RMSE'].append(train_rmse)\n",
    "    lasso_results['Testing R-Squared'].append(test_rsq)\n",
    "    lasso_results['Testing RMSE'].append(test_rmse)\n",
    "\n",
    "    print(f'Penalty: {penalty}, prediction R-squared - training: {train_rsq:.4f}, testing: {test_rsq:.4f}')\n",
    "\n",
    "print()"
   ]
  },
  {
   "cell_type": "code",
   "execution_count": null,
   "metadata": {},
   "outputs": [],
   "source": [
    "fig, axs = plt.subplots(1, 2, figsize=(8, 4))\n",
    "\n",
    "fig.suptitle('Lasso regression results')\n",
    "\n",
    "axs[0].plot(penalties, lasso_results['Training R-squared'], color='black', label='Training')\n",
    "axs[0].plot(penalties, lasso_results['Testing R-Squared'], color='red', label='Testing')\n",
    "axs[0].set_xlabel('L1 penalty')\n",
    "axs[0].set_xscale('log', base=2)\n",
    "axs[0].set_ylabel('R-squared')\n",
    "axs[0].legend(loc='best')\n",
    "\n",
    "axs[1].plot(penalties, lasso_results['Training RMSE'], color='black', label='Training')\n",
    "axs[1].plot(penalties, lasso_results['Testing RMSE'], color='red', label='Testing')\n",
    "axs[1].set_xlabel('L1 penalty')\n",
    "axs[1].set_xscale('log', base=2)\n",
    "axs[1].set_ylabel('RMSE')\n",
    "axs[1].legend(loc='best')\n",
    "\n",
    "plt.tight_layout()\n",
    "plt.show()"
   ]
  },
  {
   "cell_type": "markdown",
   "metadata": {},
   "source": [
    "### 4.3. Ridge penalty optimization\n",
    "\n",
    "Do the same thing for a ridge regression model"
   ]
  },
  {
   "cell_type": "code",
   "execution_count": null,
   "metadata": {},
   "outputs": [],
   "source": [
    "%%time\n",
    "\n",
    "penalties = [1, 2, 4, 8, 16, 32, 64, 128, 256, 512, 1024, 2048, 4096, 8192, 16384]"
   ]
  },
  {
   "cell_type": "code",
   "execution_count": null,
   "metadata": {},
   "outputs": [],
   "source": [
    "fig, axs = plt.subplots(1, 2, figsize=(8, 4))\n",
    "\n",
    "fig.suptitle('Ridge regression results')\n",
    "\n",
    "axs[0].plot(penalties, ridge_results['Training R-squared'], color='black', label='Training')\n",
    "axs[0].plot(penalties, ridge_results['Testing R-Squared'], color='red', label='Testing')\n",
    "axs[0].set_xlabel('L2 penalty')\n",
    "axs[0].set_xscale('log', base=2)\n",
    "axs[0].set_ylabel('R-squared')\n",
    "axs[0].legend(loc='best')\n",
    "\n",
    "axs[1].plot(penalties, ridge_results['Training RMSE'], color='black', label='Training')\n",
    "axs[1].plot(penalties, ridge_results['Testing RMSE'], color='red', label='Testing')\n",
    "axs[1].set_xlabel('L2 penalty')\n",
    "axs[1].set_xscale('log', base=2)\n",
    "axs[1].set_ylabel('RMSE')\n",
    "axs[1].legend(loc='best')\n",
    "\n",
    "plt.tight_layout()\n",
    "plt.show()"
   ]
  },
  {
   "cell_type": "markdown",
   "metadata": {},
   "source": [
    "## 6. Final model evaluation"
   ]
  },
  {
   "cell_type": "code",
   "execution_count": null,
   "metadata": {},
   "outputs": [],
   "source": [
    "# Use the Lasso and Ridge result plots to choose the best type of model and penalty value\n",
    "# Then train the final model with the chosen penalty value\n",
    "# Evaluate the final model's R-square and RMSE on the training and testing sets"
   ]
  },
  {
   "cell_type": "code",
   "execution_count": null,
   "metadata": {},
   "outputs": [],
   "source": [
    "funcs.residual_plot(training_predictions, training_labels, testing_predictions, testing_labels)"
   ]
  }
 ],
 "metadata": {
  "kernelspec": {
   "display_name": "Python 3",
   "language": "python",
   "name": "python3"
  },
  "language_info": {
   "codemirror_mode": {
    "name": "ipython",
    "version": 3
   },
   "file_extension": ".py",
   "mimetype": "text/x-python",
   "name": "python",
   "nbconvert_exporter": "python",
   "pygments_lexer": "ipython3",
   "version": "3.11.4"
  }
 },
 "nbformat": 4,
 "nbformat_minor": 2
}
