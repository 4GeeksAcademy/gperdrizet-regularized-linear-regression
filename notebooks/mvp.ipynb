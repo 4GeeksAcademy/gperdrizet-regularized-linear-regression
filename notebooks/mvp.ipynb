{
 "cells": [
  {
   "cell_type": "markdown",
   "metadata": {},
   "source": [
    "# Regularized regression: US county-level sociodemographic and health resource data (2018-2019)"
   ]
  },
  {
   "cell_type": "markdown",
   "metadata": {},
   "source": [
    "## 1. Data loading"
   ]
  },
  {
   "cell_type": "code",
   "execution_count": null,
   "metadata": {},
   "outputs": [],
   "source": [
    "# Handle imports upfront\n",
    "import numpy as np\n",
    "import pandas as pd\n",
    "from sklearn.feature_selection import RFE\n",
    "from sklearn.metrics import root_mean_squared_error\n",
    "from sklearn.preprocessing import OrdinalEncoder\n",
    "from sklearn.model_selection import train_test_split\n",
    "from sklearn.linear_model import LinearRegression, Lasso\n",
    "\n",
    "pd.set_option('display.max_rows', 500)\n"
   ]
  },
  {
   "cell_type": "markdown",
   "metadata": {
    "vscode": {
     "languageId": "plaintext"
    }
   },
   "source": [
    "### 1.1. Load"
   ]
  },
  {
   "cell_type": "code",
   "execution_count": null,
   "metadata": {},
   "outputs": [],
   "source": [
    "data_url='https://raw.githubusercontent.com/4GeeksAcademy/regularized-linear-regression-project-tutorial/main/demographic_health_data.csv'\n",
    "data_df=pd.read_csv(data_url, sep=',')"
   ]
  },
  {
   "cell_type": "markdown",
   "metadata": {},
   "source": [
    "### 1.2. Inspect"
   ]
  },
  {
   "cell_type": "code",
   "execution_count": null,
   "metadata": {},
   "outputs": [],
   "source": [
    "data_df.head().transpose()"
   ]
  },
  {
   "cell_type": "code",
   "execution_count": null,
   "metadata": {},
   "outputs": [],
   "source": [
    "data_df.info(verbose=True, show_counts=True)"
   ]
  },
  {
   "cell_type": "markdown",
   "metadata": {},
   "source": [
    "### 1.3. Train-test split"
   ]
  },
  {
   "cell_type": "code",
   "execution_count": null,
   "metadata": {},
   "outputs": [],
   "source": [
    "# Do the test-train split\n",
    "training_df, testing_df=train_test_split(\n",
    "    data_df,\n",
    "    test_size=0.25,\n",
    "    random_state=315\n",
    ")"
   ]
  },
  {
   "cell_type": "markdown",
   "metadata": {},
   "source": [
    "## 2. EDA\n",
    "\n",
    "### 2.1. Baseline model performance"
   ]
  },
  {
   "cell_type": "code",
   "execution_count": null,
   "metadata": {},
   "outputs": [],
   "source": [
    "anycondition_rates=training_df['anycondition_number']/training_df['TOT_POP']\n",
    "mean_anycondition_rate=np.mean(anycondition_rates)\n",
    "print(f'Mean any condition rate: {mean_anycondition_rate:.2f}')\n",
    "\n",
    "rmse=root_mean_squared_error(anycondition_rates, [mean_anycondition_rate]*len(training_df))\n",
    "print(f'Mean any condition rate model RMSE: {rmse:.2f}')"
   ]
  },
  {
   "cell_type": "markdown",
   "metadata": {},
   "source": [
    "### 2.2. Inital feature selection\n",
    "\n",
    "#### 2.2.1. Drop pathology related features"
   ]
  },
  {
   "cell_type": "code",
   "execution_count": null,
   "metadata": {},
   "outputs": [],
   "source": [
    "training_labels=training_df['anycondition_number']\n",
    "testing_labels=testing_df['anycondition_number']\n",
    "\n",
    "path_features=training_df.columns[:83]\n",
    "training_df=training_df[path_features]\n",
    "testing_df=testing_df[path_features]"
   ]
  },
  {
   "cell_type": "markdown",
   "metadata": {},
   "source": [
    "#### 2.2.2. Initial feature selection"
   ]
  },
  {
   "cell_type": "code",
   "execution_count": null,
   "metadata": {},
   "outputs": [],
   "source": [
    "string_features=['COUNTY_NAME', 'STATE_NAME']\n",
    "ordinal_encoder=OrdinalEncoder()\n",
    "training_df[string_features]=ordinal_encoder.fit_transform(training_df[string_features])\n",
    "\n",
    "linear_model=LinearRegression()\n",
    "selector=RFE(linear_model, n_features_to_select=20, step=5)\n",
    "selector=selector.fit(training_df, training_labels)\n",
    "\n",
    "training_features=training_df.loc[:, selector.get_support()]\n",
    "testing_features=testing_df.loc[:, selector.get_support()]\n",
    "\n",
    "training_features.head().transpose()"
   ]
  },
  {
   "cell_type": "markdown",
   "metadata": {},
   "source": [
    "### 2.3. Feature distributions and cleaning"
   ]
  },
  {
   "cell_type": "markdown",
   "metadata": {},
   "source": [
    "### 2.4. Feature interactions & selection"
   ]
  },
  {
   "cell_type": "code",
   "execution_count": null,
   "metadata": {},
   "outputs": [],
   "source": [
    "# Your code here..."
   ]
  },
  {
   "cell_type": "markdown",
   "metadata": {},
   "source": [
    "### 2.5. Feature encoding & scaling"
   ]
  },
  {
   "cell_type": "code",
   "execution_count": null,
   "metadata": {},
   "outputs": [],
   "source": [
    "# Your code here..."
   ]
  },
  {
   "cell_type": "markdown",
   "metadata": {},
   "source": [
    "## 3. Linear model training"
   ]
  },
  {
   "cell_type": "code",
   "execution_count": null,
   "metadata": {},
   "outputs": [],
   "source": [
    "linear_model=LinearRegression()\n",
    "result=linear_model.fit(training_features, training_labels)\n",
    "\n",
    "train_predictions=linear_model.predict(training_features)\n",
    "train_rmse=root_mean_squared_error(training_labels, train_predictions)\n",
    "\n",
    "test_predictions=linear_model.predict(testing_features)\n",
    "test_rmse=root_mean_squared_error(testing_labels, test_predictions)\n",
    "\n",
    "print(f'Prediction RMSE: training: {train_rmse:.0f}, testing: {test_rmse:.0f}')"
   ]
  },
  {
   "cell_type": "markdown",
   "metadata": {},
   "source": [
    "## 4. Model regularization"
   ]
  },
  {
   "cell_type": "code",
   "execution_count": null,
   "metadata": {},
   "outputs": [],
   "source": [
    "penalties=[0.0001, 0.001, 0.01, 0.1]\n",
    "\n",
    "for penalty in penalties:\n",
    "    lasso_model=Lasso(alpha=penalty, max_iter=1000)\n",
    "    result=lasso_model.fit(training_features, training_labels)\n",
    "\n",
    "    train_predictions=lasso_model.predict(training_features)\n",
    "    train_rmse=root_mean_squared_error(training_labels, train_predictions)\n",
    "\n",
    "    test_predictions=lasso_model.predict(testing_features)\n",
    "    test_rmse=root_mean_squared_error(testing_labels, test_predictions)\n",
    "\n",
    "    print(f'Prediction RMSE: training: {train_rmse:.0f}, testing: {test_rmse:.0f}')"
   ]
  },
  {
   "cell_type": "markdown",
   "metadata": {},
   "source": [
    "## 5. Hyperparameter optimization"
   ]
  },
  {
   "cell_type": "code",
   "execution_count": null,
   "metadata": {},
   "outputs": [],
   "source": [
    "# Your code here..."
   ]
  },
  {
   "cell_type": "markdown",
   "metadata": {},
   "source": [
    "## 6. Final model evaluation"
   ]
  },
  {
   "cell_type": "code",
   "execution_count": null,
   "metadata": {},
   "outputs": [],
   "source": [
    "# Your code here..."
   ]
  }
 ],
 "metadata": {
  "kernelspec": {
   "display_name": "Python 3",
   "language": "python",
   "name": "python3"
  },
  "language_info": {
   "codemirror_mode": {
    "name": "ipython",
    "version": 3
   },
   "file_extension": ".py",
   "mimetype": "text/x-python",
   "name": "python",
   "nbconvert_exporter": "python",
   "pygments_lexer": "ipython3",
   "version": "3.11.4"
  }
 },
 "nbformat": 4,
 "nbformat_minor": 2
}
